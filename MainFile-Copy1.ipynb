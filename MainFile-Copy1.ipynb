{
 "cells": [
  {
   "cell_type": "code",
   "execution_count": 120,
   "id": "f661be31-fd87-4558-8900-64d754c89162",
   "metadata": {
    "tags": []
   },
   "outputs": [],
   "source": [
    "import shutil\n",
    "import tempfile\n",
    "from pathlib import Path\n",
    "\n",
    "from pystac import Catalog, get_stac_version \n",
    "from pystac import collection as pystac_collection\n",
    "import pystac\n",
    "\n",
    "from marble_client import MarbleClient\n",
    "client = MarbleClient()"
   ]
  },
  {
   "cell_type": "code",
   "execution_count": 121,
   "id": "57b311d4-bf77-49a5-a4d5-72fad9f9d7c5",
   "metadata": {
    "tags": []
   },
   "outputs": [
    {
     "name": "stdout",
     "output_type": "stream",
     "text": [
      "{'title': 'Test Title for Productq', 'desc': 'Here is a longer description of what it does', 'date': '2024-12-19', 'fname': 'Cassandra', 'lname': 'Chanen', 'email[]': 'cassandra.chanen@gmail.com', 'geometry': 'Polygon', 'bbox1': '-45', 'bbox2': '45', 'bbox3': '-180', 'bbox4': '180', 'start_date': '1980-01-01', 'end_date': '2000-01-01', 'vehicle1': 'Bike', 'path': '/mypublic/file/here', 'input': 'www.cmiplink.redoak', 'link': ''}\n"
     ]
    }
   ],
   "source": [
    "form_result = \"title=Test Title for Productq&desc=Here is a longer description of what it does&date=2024-12-19&fname=Cassandra&lname=Chanen&email[]=cassandra.chanen@gmail.com&geometry=Polygon&bbox1=-45&bbox2=45&bbox3=-180&bbox4=180&start_date=1980-01-01&end_date=2000-01-01&vehicle1=Bike&vehicle1=Bike&path=/mypublic/file/here&input=www.cmiplink.redoak&link=\"\n",
    "fdict = {}\n",
    "form = form_result.split(\"&\")\n",
    "for i in range(len(form)):\n",
    "    var = form[i]\n",
    "    var_list = var.split(\"=\")\n",
    "    fdict[var_list[0]] = var_list[1]\n",
    "print(fdict)"
   ]
  },
  {
   "cell_type": "code",
   "execution_count": 122,
   "id": "65159b5f-d1c3-4fd7-bcf7-a3ce0296eeb3",
   "metadata": {
    "tags": []
   },
   "outputs": [],
   "source": [
    "#Setting up geometry\n",
    "if fdict[\"geometry\"] == \"Point\":\n",
    "    item_bbox = [fdict[\"bbox1\"], fdict[\"bbox2\"]]\n",
    "    item_coords = [fdict[\"bbox1\"], fdict[\"bbox2\"]]\n",
    "if fdict[\"geometry\"] == \"Polygon\":\n",
    "    item_bbox = [fdict[\"bbox3\"], fdict[\"bbox1\"], fdict[\"bbox4\"], fdict[\"bbox2\"]]\n",
    "    item_coords = [[fdict[\"bbox3\"],fdict[\"bbox1\"]],[fdict[\"bbox4\"], fdict[\"bbox1\"]],[fdict[\"bbox4\"], fdict[\"bbox2\"]],[fdict[\"bbox3\"], fdict[\"bbox2\"]],[fdict[\"bbox3\"],fdict[\"bbox1\"]]]\n",
    "if fdict[\"geometry\"] == \"null\":\n",
    "    item_bbox = null\n",
    "    item_coords = null\n",
    "        \n",
    "#Setting Properties\n",
    "from datetime import datetime\n",
    "item_properties = {\n",
    "    #date\n",
    "    \"datetime\" : None,\n",
    "    \"start_datetime\" : fdict[\"start_date\"],\n",
    "    \"end_datetime\" : fdict[\"end_date\"],\n",
    "    \"created\" : fdict[\"date\"],\n",
    "    #variables\n",
    "    \"variables\": [\n",
    "      \"temperature\",\n",
    "      \"pressure\"\n",
    "    ],\n",
    "    #instruments\n",
    "    \"instruments\": [\n",
    "      \"example\"\n",
    "    ],\n",
    "    #models\n",
    "    \"models\": [\n",
    "      \"example\"\n",
    "    ],\n",
    "    \"item_links\" : [{\n",
    "      \"rel\": \"self\",\n",
    "      \"href\": fdict[\"path\"]\n",
    "    },\n",
    "    {\n",
    "      \"rel\": \"collection\",\n",
    "      \"href\": \"https://landsat-stac.s3.amazonaws.com/landsat-8-l1/catalog.json\"\n",
    "    },\n",
    "    {\n",
    "      \"rel\": \"parent\",\n",
    "      \"href\": \"https://landsat-stac.s3.amazonaws.com/landsat-8-l1/107/018/catalog.json\"\n",
    "    },\n",
    "    {\n",
    "      \"rel\": \"root\",\n",
    "      \"href\": \"https://landsat-stac.s3.amazonaws.com/catalog.json\"\n",
    "    },\n",
    "    {\n",
    "      \"rel\": \"derived_from\",\n",
    "      \"href\": [fdict[\"input\"]]\n",
    "    },\n",
    "    {\n",
    "      \"rel\": \"linked_files\",\n",
    "      \"href\": [fdict[\"link\"]]\n",
    "    }]\n",
    "}"
   ]
  },
  {
   "cell_type": "code",
   "execution_count": 123,
   "id": "f59511a3-ddaf-4a21-942e-14a8443539b7",
   "metadata": {
    "tags": []
   },
   "outputs": [],
   "source": [
    "##%%\n",
    "item = pystac.Item(\n",
    "    id = str(fdict[\"lname\"]) + '-' + fdict[\"title\"][:fdict[\"title\"].find(\" \")] + '-' + fdict[\"date\"],\n",
    "    geometry = {\n",
    "           \"type\": fdict[\"geometry\"],\n",
    "           \"coordinates\": item_coords\n",
    "       },\n",
    "    bbox = item_bbox,\n",
    "    datetime = None,\n",
    "    properties=item_properties\n",
    ")"
   ]
  },
  {
   "cell_type": "code",
   "execution_count": null,
   "id": "afaf080f-465b-4c0a-9537-0009bd1063d7",
   "metadata": {
    "tags": []
   },
   "outputs": [],
   "source": []
  },
  {
   "cell_type": "code",
   "execution_count": 119,
   "id": "a599b17a-cfc5-4adc-8450-5f371c2b85c7",
   "metadata": {
    "tags": []
   },
   "outputs": [
    {
     "name": "stdout",
     "output_type": "stream",
     "text": [
      "{\n",
      "    \"type\": \"Feature\",\n",
      "    \"stac_version\": \"1.0.0\",\n",
      "    \"id\": \"Chanen-Test-2024-12-19\",\n",
      "    \"properties\": {\n",
      "        \"datetime\": null,\n",
      "        \"start_datetime\": \"1980-01-01\",\n",
      "        \"end_datetime\": \"2000-01-01\",\n",
      "        \"created\": \"2024-12-19\",\n",
      "        \"variables\": [\n",
      "            \"temperature\",\n",
      "            \"pressure\"\n",
      "        ],\n",
      "        \"instruments\": [\n",
      "            \"example\"\n",
      "        ],\n",
      "        \"models\": [\n",
      "            \"example\"\n",
      "        ],\n",
      "        \"item_links\": [\n",
      "            {\n",
      "                \"rel\": \"self\",\n",
      "                \"href\": \"/mypublic/file/here\"\n",
      "            },\n",
      "            {\n",
      "                \"rel\": \"collection\",\n",
      "                \"href\": \"https://landsat-stac.s3.amazonaws.com/landsat-8-l1/catalog.json\"\n",
      "            },\n",
      "            {\n",
      "                \"rel\": \"parent\",\n",
      "                \"href\": \"https://landsat-stac.s3.amazonaws.com/landsat-8-l1/107/018/catalog.json\"\n",
      "            },\n",
      "            {\n",
      "                \"rel\": \"root\",\n",
      "                \"href\": \"https://landsat-stac.s3.amazonaws.com/catalog.json\"\n",
      "            },\n",
      "            {\n",
      "                \"rel\": \"derived_from\",\n",
      "                \"href\": [\n",
      "                    \"www.cmiplink.redoak\"\n",
      "                ]\n",
      "            },\n",
      "            {\n",
      "                \"rel\": \"linked_files\",\n",
      "                \"href\": [\n",
      "                    \"\"\n",
      "                ]\n",
      "            }\n",
      "        ]\n",
      "    },\n",
      "    \"geometry\": {\n",
      "        \"type\": \"Polygon\",\n",
      "        \"coordinates\": [\n",
      "            [\n",
      "                \"-180\",\n",
      "                \"-45\"\n",
      "            ],\n",
      "            [\n",
      "                \"180\",\n",
      "                \"-45\"\n",
      "            ],\n",
      "            [\n",
      "                \"180\",\n",
      "                \"45\"\n",
      "            ],\n",
      "            [\n",
      "                \"-180\",\n",
      "                \"45\"\n",
      "            ],\n",
      "            [\n",
      "                \"-180\",\n",
      "                \"-45\"\n",
      "            ]\n",
      "        ]\n",
      "    },\n",
      "    \"links\": [],\n",
      "    \"assets\": {},\n",
      "    \"bbox\": [\n",
      "        \"-180\",\n",
      "        \"-45\",\n",
      "        \"180\",\n",
      "        \"45\"\n",
      "    ],\n",
      "    \"stac_extensions\": []\n",
      "}\n"
     ]
    }
   ],
   "source": [
    "import json\n",
    "print(json.dumps(item.to_dict(), indent=4))"
   ]
  },
  {
   "cell_type": "code",
   "execution_count": null,
   "id": "f1865fa1-6428-404a-89ca-dc78b7327ec6",
   "metadata": {
    "tags": []
   },
   "outputs": [],
   "source": []
  },
  {
   "cell_type": "code",
   "execution_count": null,
   "id": "aad3d7e8-4209-49dd-a6ed-ed5faeb3cea7",
   "metadata": {},
   "outputs": [],
   "source": []
  }
 ],
 "metadata": {
  "kernelspec": {
   "display_name": "Marble",
   "language": "python",
   "name": "marble"
  },
  "language_info": {
   "codemirror_mode": {
    "name": "ipython",
    "version": 3
   },
   "file_extension": ".py",
   "mimetype": "text/x-python",
   "name": "python",
   "nbconvert_exporter": "python",
   "pygments_lexer": "ipython3",
   "version": "3.11.7"
  }
 },
 "nbformat": 4,
 "nbformat_minor": 5
}
